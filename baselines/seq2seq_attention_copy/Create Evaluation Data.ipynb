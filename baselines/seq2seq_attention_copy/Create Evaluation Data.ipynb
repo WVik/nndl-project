{
 "cells": [
  {
   "cell_type": "markdown",
   "id": "92e0f6b0",
   "metadata": {},
   "source": [
    "## InputAttentionCopyingSeq2Seq_tune_model"
   ]
  },
  {
   "cell_type": "code",
   "execution_count": 6,
   "id": "5bdfba69",
   "metadata": {},
   "outputs": [
    {
     "name": "stdout",
     "output_type": "stream",
     "text": [
      "/home/ss6618/spider/baselines/seq2seq_attention_copy\r\n"
     ]
    }
   ],
   "source": [
    "# 1. Combine predicted files in order\n",
    "# 2. Combine gold files in order\n",
    "# 3. Format gold file to add \"\\tdatabase\" reading from test.json\n",
    "!pwd"
   ]
  },
  {
   "cell_type": "code",
   "execution_count": 1,
   "id": "ba842f47",
   "metadata": {},
   "outputs": [],
   "source": [
    "# 1. Combine predicted files in order\n",
    "file = open(\"./InputAttentionCopyingSeq2Seq_tune_model_data/output_test.txt\", \"r\")\n",
    "pred_data=file.readlines()\n",
    "file.close()  "
   ]
  },
  {
   "cell_type": "code",
   "execution_count": 2,
   "id": "a7b8d6d6",
   "metadata": {},
   "outputs": [],
   "source": [
    "pred_data = pred_data[3:]"
   ]
  },
  {
   "cell_type": "code",
   "execution_count": 3,
   "id": "90fdd802",
   "metadata": {},
   "outputs": [],
   "source": [
    "file1 = open(\"./InputAttentionCopyingSeq2Seq_tune_model_data_radn_split/output_test.txt\", \"r\")\n",
    "pred_data_split=file1.readlines()\n",
    "file1.close() "
   ]
  },
  {
   "cell_type": "code",
   "execution_count": 4,
   "id": "fa2e6af1",
   "metadata": {},
   "outputs": [],
   "source": [
    "pred_data_split = pred_data_split[3:]"
   ]
  },
  {
   "cell_type": "code",
   "execution_count": 5,
   "id": "8175df60",
   "metadata": {},
   "outputs": [],
   "source": [
    "pred_data.extend(pred_data_split)"
   ]
  },
  {
   "cell_type": "code",
   "execution_count": 6,
   "id": "1690d05c",
   "metadata": {},
   "outputs": [
    {
     "data": {
      "text/plain": [
       "1732"
      ]
     },
     "execution_count": 6,
     "metadata": {},
     "output_type": "execute_result"
    }
   ],
   "source": [
    "len(pred_data)"
   ]
  },
  {
   "cell_type": "code",
   "execution_count": 7,
   "id": "04abca1b",
   "metadata": {},
   "outputs": [],
   "source": [
    "with open('InputAttentionCopyingSeq2Seq_tune_model_predictions.txt', 'w') as f:\n",
    "    for line in pred_data:\n",
    "        f.write(f\"{line}\")"
   ]
  },
  {
   "cell_type": "markdown",
   "id": "9f5675b2",
   "metadata": {},
   "source": [
    "## AttentionSeq2Seq_tune_model"
   ]
  },
  {
   "cell_type": "code",
   "execution_count": 15,
   "id": "dc61513c",
   "metadata": {},
   "outputs": [],
   "source": [
    "# 1. Combine predicted files in order\n",
    "file = open(\"./AttentionSeq2Seq_tune_model_data/output_test.txt\", \"r\")\n",
    "pred_data=file.readlines()\n",
    "file.close()  "
   ]
  },
  {
   "cell_type": "code",
   "execution_count": 16,
   "id": "92c3f9c0",
   "metadata": {},
   "outputs": [
    {
     "data": {
      "text/plain": [
       "[\"make mask data provider args: ['data/datasets/data_final_processed/test/test_encode.txt'] None ['data/datasets/data_final_processed/test/test_decoder_mask.txt'] False 1    \\n\",\n",
       " \"source_files ['data/datasets/data_final_processed/test/test_encode.txt']\\n\",\n",
       " '<seq2seq.data.split_tokens_decoder.SplitTokensDecoder object at 0x7f936d174c10>\\n',\n",
       " \"schema data source ['data/datasets/data_final_processed/test/test_decoder_mask.txt']\\n\",\n",
       " \"schemas.data_sources ['data/datasets/data_final_processed/test/test_decoder_mask.txt']\\n\",\n",
       " \"items_schema [u'decoder_mask']\\n\",\n",
       " \"tensor_schema [<tf.Tensor 'input_fn/StringToNumber:0' shape=(?,) dtype=float32>]\\n\",\n",
       " 'select t2 . product_name , sum ( t1 . product_price ) from products as t1 join products as t2 on t1 . product_id = t2 . product_id join products as t3 on t3 . product_id = t1 . product_id group by t2 . product_name\\n']"
      ]
     },
     "execution_count": 16,
     "metadata": {},
     "output_type": "execute_result"
    }
   ],
   "source": [
    "pred_data[0:8]"
   ]
  },
  {
   "cell_type": "code",
   "execution_count": 17,
   "id": "c6f73302",
   "metadata": {},
   "outputs": [
    {
     "data": {
      "text/plain": [
       "'select t2 . product_name , sum ( t1 . product_price ) from products as t1 join products as t2 on t1 . product_id = t2 . product_id join products as t3 on t3 . product_id = t1 . product_id group by t2 . product_name\\n'"
      ]
     },
     "execution_count": 17,
     "metadata": {},
     "output_type": "execute_result"
    }
   ],
   "source": [
    "pred_data[7]"
   ]
  },
  {
   "cell_type": "code",
   "execution_count": 18,
   "id": "746fad4c",
   "metadata": {},
   "outputs": [],
   "source": [
    "pred_data = pred_data[7:]"
   ]
  },
  {
   "cell_type": "code",
   "execution_count": 19,
   "id": "4b2c2671",
   "metadata": {},
   "outputs": [],
   "source": [
    "file1 = open(\"./AttentionSeq2Seq_tune_model_data_radn_split/output_test.txt\", \"r\")\n",
    "pred_data_split=file1.readlines()\n",
    "file1.close() "
   ]
  },
  {
   "cell_type": "code",
   "execution_count": 20,
   "id": "6659ff4a",
   "metadata": {},
   "outputs": [],
   "source": [
    "pred_data_split = pred_data_split[7:]"
   ]
  },
  {
   "cell_type": "code",
   "execution_count": 21,
   "id": "68096be8",
   "metadata": {},
   "outputs": [],
   "source": [
    "pred_data.extend(pred_data_split)"
   ]
  },
  {
   "cell_type": "code",
   "execution_count": 22,
   "id": "3a706af5",
   "metadata": {},
   "outputs": [
    {
     "data": {
      "text/plain": [
       "1732"
      ]
     },
     "execution_count": 22,
     "metadata": {},
     "output_type": "execute_result"
    }
   ],
   "source": [
    "len(pred_data)"
   ]
  },
  {
   "cell_type": "code",
   "execution_count": 23,
   "id": "59db39b2",
   "metadata": {},
   "outputs": [],
   "source": [
    "with open('AttentionSeq2Seq_tune_model_predictions.txt', 'w') as f:\n",
    "    for line in pred_data:\n",
    "        f.write(f\"{line}\")"
   ]
  },
  {
   "cell_type": "code",
   "execution_count": 24,
   "id": "430ab745",
   "metadata": {},
   "outputs": [
    {
     "data": {
      "text/plain": [
       "'select t2 . product_name , sum ( t1 . product_price ) from products as t1 join products as t2 on t1 . product_id = t2 . product_id join products as t3 on t3 . product_id = t1 . product_id group by t2 . product_name\\n'"
      ]
     },
     "execution_count": 24,
     "metadata": {},
     "output_type": "execute_result"
    }
   ],
   "source": [
    "pred_data[0]"
   ]
  },
  {
   "cell_type": "markdown",
   "id": "91ae6716",
   "metadata": {},
   "source": [
    "## BasicSeq2Seq_tune_model"
   ]
  },
  {
   "cell_type": "code",
   "execution_count": 26,
   "id": "9f60988a",
   "metadata": {},
   "outputs": [],
   "source": [
    "# 1. Combine predicted files in order\n",
    "file = open(\"./BasicSeq2Seq_tune_model_data/output_test.txt\", \"r\")\n",
    "pred_data=file.readlines()\n",
    "file.close()  "
   ]
  },
  {
   "cell_type": "code",
   "execution_count": 27,
   "id": "14cacc7b",
   "metadata": {},
   "outputs": [
    {
     "data": {
      "text/plain": [
       "[\"make mask data provider args: ['data/datasets/data_final_processed/test/test_encode.txt'] None ['data/datasets/data_final_processed/test/test_decoder_mask.txt'] False 1    \\n\",\n",
       " \"source_files ['data/datasets/data_final_processed/test/test_encode.txt']\\n\",\n",
       " '<seq2seq.data.split_tokens_decoder.SplitTokensDecoder object at 0x7efe63cefb90>\\n',\n",
       " \"schema data source ['data/datasets/data_final_processed/test/test_decoder_mask.txt']\\n\",\n",
       " \"schemas.data_sources ['data/datasets/data_final_processed/test/test_decoder_mask.txt']\\n\",\n",
       " \"items_schema [u'decoder_mask']\\n\",\n",
       " \"tensor_schema [<tf.Tensor 'input_fn/StringToNumber:0' shape=(?,) dtype=float32>]\\n\",\n",
       " 'select t2 . product_name , avg ( product_price ) from order_items as t1 join order_items as t2 on t1 . order_id = t2 . order_id group by t2 . order_id\\n']"
      ]
     },
     "execution_count": 27,
     "metadata": {},
     "output_type": "execute_result"
    }
   ],
   "source": [
    "pred_data[0:8]"
   ]
  },
  {
   "cell_type": "code",
   "execution_count": 28,
   "id": "a40cf0d2",
   "metadata": {},
   "outputs": [
    {
     "data": {
      "text/plain": [
       "'select t2 . product_name , avg ( product_price ) from order_items as t1 join order_items as t2 on t1 . order_id = t2 . order_id group by t2 . order_id\\n'"
      ]
     },
     "execution_count": 28,
     "metadata": {},
     "output_type": "execute_result"
    }
   ],
   "source": [
    "pred_data[7]"
   ]
  },
  {
   "cell_type": "code",
   "execution_count": 29,
   "id": "f09d49f0",
   "metadata": {},
   "outputs": [],
   "source": [
    "pred_data = pred_data[7:]"
   ]
  },
  {
   "cell_type": "code",
   "execution_count": 30,
   "id": "dee446c7",
   "metadata": {},
   "outputs": [],
   "source": [
    "file1 = open(\"./BasicSeq2Seq_tune_model_data_radn_split/output_test.txt\", \"r\")\n",
    "pred_data_split=file1.readlines()\n",
    "file1.close() "
   ]
  },
  {
   "cell_type": "code",
   "execution_count": 31,
   "id": "1ab511ba",
   "metadata": {},
   "outputs": [],
   "source": [
    "pred_data_split = pred_data_split[7:]"
   ]
  },
  {
   "cell_type": "code",
   "execution_count": 32,
   "id": "088277cd",
   "metadata": {},
   "outputs": [],
   "source": [
    "pred_data.extend(pred_data_split)"
   ]
  },
  {
   "cell_type": "code",
   "execution_count": 33,
   "id": "bb8d8379",
   "metadata": {},
   "outputs": [
    {
     "data": {
      "text/plain": [
       "1732"
      ]
     },
     "execution_count": 33,
     "metadata": {},
     "output_type": "execute_result"
    }
   ],
   "source": [
    "len(pred_data)"
   ]
  },
  {
   "cell_type": "code",
   "execution_count": 34,
   "id": "b3dc9a3b",
   "metadata": {},
   "outputs": [],
   "source": [
    "with open('BasicSeq2Seq_tune_model_predictions.txt', 'w') as f:\n",
    "    for line in pred_data:\n",
    "        f.write(f\"{line}\")"
   ]
  },
  {
   "cell_type": "code",
   "execution_count": 35,
   "id": "a76003be",
   "metadata": {},
   "outputs": [
    {
     "data": {
      "text/plain": [
       "'select t2 . product_name , avg ( product_price ) from order_items as t1 join order_items as t2 on t1 . order_id = t2 . order_id group by t2 . order_id\\n'"
      ]
     },
     "execution_count": 35,
     "metadata": {},
     "output_type": "execute_result"
    }
   ],
   "source": [
    "pred_data[0]"
   ]
  },
  {
   "cell_type": "code",
   "execution_count": 42,
   "id": "ba3ac681",
   "metadata": {},
   "outputs": [],
   "source": [
    "# 3. Create a gold file in a format similar to the gold file given - lower() and spaces, ensuring we have \"{value}\" in place of proper nouns \n",
    "# from test1.json and test2.json\n"
   ]
  },
  {
   "cell_type": "code",
   "execution_count": 2,
   "id": "46b3e773",
   "metadata": {},
   "outputs": [],
   "source": [
    "import json\n",
    "\n",
    "with open(\"data/datasets/data/test1.json\") as json_file:\n",
    "    test1 = json.load(json_file)\n",
    "    json_file.close()   "
   ]
  },
  {
   "cell_type": "code",
   "execution_count": 4,
   "id": "b45cde54",
   "metadata": {},
   "outputs": [],
   "source": [
    "with open(\"data/datasets/data_radn_split/test2.json\") as json_file:\n",
    "    test2 = json.load(json_file)\n",
    "    json_file.close()"
   ]
  },
  {
   "cell_type": "code",
   "execution_count": 5,
   "id": "c7f07f7b",
   "metadata": {},
   "outputs": [
    {
     "data": {
      "text/plain": [
       "1732"
      ]
     },
     "execution_count": 5,
     "metadata": {},
     "output_type": "execute_result"
    }
   ],
   "source": [
    "test = test1 + test2\n",
    "len(test)"
   ]
  },
  {
   "cell_type": "code",
   "execution_count": 32,
   "id": "679a2d93",
   "metadata": {},
   "outputs": [],
   "source": [
    "import re\n",
    "\n",
    "# Define a function to convert table aliases to lowercase with spaces\n",
    "def convert_aliases(match):\n",
    "    return match.group(0).lower()\n",
    "\n",
    "# original_query = 'SELECT T1.product_name , sum(T2.order_quantity) FROM products AS T1 JOIN order_items AS T2 ON T1.product_id = T2.product_id GROUP BY T1.product_id'\n",
    "\n",
    "\n",
    "def format_query(original_query):\n",
    "    # Define the regular expression pattern to match and replace table aliases\n",
    "    pattern = re.compile(r'\\b([A-Za-z_]\\w*)\\b')\n",
    "\n",
    "    # Use the sub method to replace table aliases with lowercase versions\n",
    "    converted_query = pattern.sub(convert_aliases, original_query)\n",
    "\n",
    "    # Add spaces around dots in column and table references\n",
    "    converted_query = re.sub(r'(\\w)\\.\\s*(\\w)', r'\\1 . \\2', converted_query)\n",
    "\n",
    "    # Add spaces before and after opening parentheses in function calls\n",
    "    converted_query = re.sub(r'(\\w+)\\s*\\(', r'\\1 ( ', converted_query)\n",
    "\n",
    "    # Add spaces before and after closing parentheses in function calls\n",
    "    converted_query = re.sub(r'(\\w+)\\s*\\)', r'\\1 )', converted_query)\n",
    "    \n",
    "    converted_query = re.sub('\\\\\"([A-Za-z]+)\\\\\"', \"{value}\", converted_query)\n",
    "    return converted_query\n"
   ]
  },
  {
   "cell_type": "code",
   "execution_count": 34,
   "id": "dee65f71",
   "metadata": {},
   "outputs": [
    {
     "name": "stdout",
     "output_type": "stream",
     "text": [
      "select t1 . product_name ,  sum ( t2 . order_quantity ) from products as t1 join order_items as t2 on t1 . product_id  =  t2 . product_id group by t1 . product_id\tcustomers_and_products_contacts\n",
      "\n"
     ]
    }
   ],
   "source": [
    "gold_formatted = []\n",
    "\n",
    "for record in test:\n",
    "    line = \"\"\n",
    "    query = format_query(record['query'])\n",
    "    line += query\n",
    "    line +=\"\\t\" + record['db_id'] + \"\\n\"\n",
    "    gold_formatted.append(line)    \n",
    "\n",
    "print(gold_formatted[0])    "
   ]
  },
  {
   "cell_type": "code",
   "execution_count": 36,
   "id": "e150209a",
   "metadata": {},
   "outputs": [
    {
     "data": {
      "text/plain": [
       "1732"
      ]
     },
     "execution_count": 36,
     "metadata": {},
     "output_type": "execute_result"
    }
   ],
   "source": [
    "len(gold_formatted)"
   ]
  },
  {
   "cell_type": "code",
   "execution_count": 38,
   "id": "88c44605",
   "metadata": {},
   "outputs": [],
   "source": [
    "with open('test_gold.txt', 'w') as f:\n",
    "    for line in gold_formatted:\n",
    "        f.write(f\"{line}\")"
   ]
  },
  {
   "cell_type": "code",
   "execution_count": 39,
   "id": "19a71afa",
   "metadata": {},
   "outputs": [],
   "source": [
    "with open('test_gold.sql', 'w') as f:\n",
    "    for line in gold_formatted:\n",
    "        f.write(f\"{line}\")"
   ]
  },
  {
   "cell_type": "code",
   "execution_count": 50,
   "id": "7429e058",
   "metadata": {},
   "outputs": [
    {
     "data": {
      "text/plain": [
       "83"
      ]
     },
     "execution_count": 50,
     "metadata": {},
     "output_type": "execute_result"
    }
   ],
   "source": []
  },
  {
   "cell_type": "code",
   "execution_count": null,
   "id": "7e8680e2",
   "metadata": {},
   "outputs": [],
   "source": []
  }
 ],
 "metadata": {
  "kernelspec": {
   "display_name": "Python 3",
   "language": "python",
   "name": "python3"
  },
  "language_info": {
   "codemirror_mode": {
    "name": "ipython",
    "version": 3
   },
   "file_extension": ".py",
   "mimetype": "text/x-python",
   "name": "python",
   "nbconvert_exporter": "python",
   "pygments_lexer": "ipython3",
   "version": "3.10.13"
  }
 },
 "nbformat": 4,
 "nbformat_minor": 5
}
