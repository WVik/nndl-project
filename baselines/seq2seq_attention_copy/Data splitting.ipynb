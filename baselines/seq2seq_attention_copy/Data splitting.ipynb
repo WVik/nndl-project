{
 "cells": [
  {
   "cell_type": "code",
   "execution_count": 2,
   "id": "11bbcc46",
   "metadata": {},
   "outputs": [],
   "source": [
    "import pandas as pd\n",
    "import json"
   ]
  },
  {
   "cell_type": "markdown",
   "id": "8b88b316",
   "metadata": {},
   "source": [
    "## Combining train_spider and train_others"
   ]
  },
  {
   "cell_type": "code",
   "execution_count": 29,
   "id": "45e3f638",
   "metadata": {},
   "outputs": [],
   "source": [
    "with open(\"train_spider.json\") as json_file:\n",
    "    train_spider = json.load(json_file)\n",
    "    json_file.close()"
   ]
  },
  {
   "cell_type": "code",
   "execution_count": 30,
   "id": "99916691",
   "metadata": {},
   "outputs": [
    {
     "data": {
      "text/plain": [
       "7000"
      ]
     },
     "execution_count": 30,
     "metadata": {},
     "output_type": "execute_result"
    }
   ],
   "source": [
    "len(train_spider)"
   ]
  },
  {
   "cell_type": "code",
   "execution_count": 31,
   "id": "4f6d67fc",
   "metadata": {},
   "outputs": [],
   "source": [
    "with open(\"train_others.json\") as json_file:\n",
    "    train_others = json.load(json_file)\n",
    "    json_file.close()"
   ]
  },
  {
   "cell_type": "code",
   "execution_count": 32,
   "id": "904b9046",
   "metadata": {},
   "outputs": [
    {
     "data": {
      "text/plain": [
       "1659"
      ]
     },
     "execution_count": 32,
     "metadata": {},
     "output_type": "execute_result"
    }
   ],
   "source": [
    "len(train_others)"
   ]
  },
  {
   "cell_type": "code",
   "execution_count": 33,
   "id": "194453ee",
   "metadata": {},
   "outputs": [],
   "source": [
    "train_spider.extend(train_others)"
   ]
  },
  {
   "cell_type": "code",
   "execution_count": 34,
   "id": "1152a9e8",
   "metadata": {},
   "outputs": [
    {
     "data": {
      "text/plain": [
       "8659"
      ]
     },
     "execution_count": 34,
     "metadata": {},
     "output_type": "execute_result"
    }
   ],
   "source": [
    "len(train_spider)"
   ]
  },
  {
   "cell_type": "code",
   "execution_count": 35,
   "id": "c662b519",
   "metadata": {},
   "outputs": [],
   "source": [
    "with open(\"train.json\", \"w\") as outfile:\n",
    "    json.dump(train_spider, outfile)"
   ]
  },
  {
   "cell_type": "markdown",
   "id": "b040f48b",
   "metadata": {},
   "source": [
    "## Create test data"
   ]
  },
  {
   "cell_type": "code",
   "execution_count": 3,
   "id": "8cbd0306",
   "metadata": {},
   "outputs": [],
   "source": [
    "with open(\"train.json\") as json_file:\n",
    "    train = json.load(json_file)\n",
    "    json_file.close()"
   ]
  },
  {
   "cell_type": "code",
   "execution_count": 4,
   "id": "b10e6033",
   "metadata": {},
   "outputs": [
    {
     "data": {
      "text/plain": [
       "8659"
      ]
     },
     "execution_count": 4,
     "metadata": {},
     "output_type": "execute_result"
    }
   ],
   "source": [
    "len(train)"
   ]
  },
  {
   "cell_type": "code",
   "execution_count": 5,
   "id": "4e4e5a64",
   "metadata": {},
   "outputs": [],
   "source": [
    "import random\n",
    "\n",
    "random.shuffle(train)"
   ]
  },
  {
   "cell_type": "code",
   "execution_count": 6,
   "id": "0bec1964",
   "metadata": {},
   "outputs": [],
   "source": [
    "train_final = train[:6927] # 6927 is 80% of 8659\n",
    "test = train[6927:]"
   ]
  },
  {
   "cell_type": "code",
   "execution_count": 7,
   "id": "a39dc872",
   "metadata": {},
   "outputs": [
    {
     "data": {
      "text/plain": [
       "6927"
      ]
     },
     "execution_count": 7,
     "metadata": {},
     "output_type": "execute_result"
    }
   ],
   "source": [
    "len(train_final)"
   ]
  },
  {
   "cell_type": "code",
   "execution_count": 8,
   "id": "441f06ea",
   "metadata": {},
   "outputs": [
    {
     "data": {
      "text/plain": [
       "1732"
      ]
     },
     "execution_count": 8,
     "metadata": {},
     "output_type": "execute_result"
    }
   ],
   "source": [
    "len(test)"
   ]
  },
  {
   "cell_type": "code",
   "execution_count": 9,
   "id": "efcb6f36",
   "metadata": {},
   "outputs": [],
   "source": [
    "with open(\"train_final.json\", \"w\") as outfile:\n",
    "    json.dump(train_final, outfile)"
   ]
  },
  {
   "cell_type": "code",
   "execution_count": 10,
   "id": "21e30d13",
   "metadata": {},
   "outputs": [],
   "source": [
    "with open(\"test.json\", \"w\") as outfile:\n",
    "    json.dump(test, outfile)"
   ]
  },
  {
   "cell_type": "markdown",
   "id": "2a8ecba9",
   "metadata": {},
   "source": [
    "## Create data_randn_split"
   ]
  },
  {
   "cell_type": "code",
   "execution_count": 16,
   "id": "f4b192c0",
   "metadata": {},
   "outputs": [],
   "source": [
    "with open(\"train_final.json\") as json_file:\n",
    "    train_final = json.load(json_file)\n",
    "    json_file.close()"
   ]
  },
  {
   "cell_type": "code",
   "execution_count": 17,
   "id": "a85da58e",
   "metadata": {},
   "outputs": [],
   "source": [
    "with open(\"test.json\") as json_file:\n",
    "    test = json.load(json_file)\n",
    "    json_file.close()"
   ]
  },
  {
   "cell_type": "code",
   "execution_count": 18,
   "id": "ed8d5caa",
   "metadata": {},
   "outputs": [
    {
     "data": {
      "text/plain": [
       "6927"
      ]
     },
     "execution_count": 18,
     "metadata": {},
     "output_type": "execute_result"
    }
   ],
   "source": [
    "len(train_final)"
   ]
  },
  {
   "cell_type": "code",
   "execution_count": 19,
   "id": "4a0968a6",
   "metadata": {},
   "outputs": [
    {
     "data": {
      "text/plain": [
       "1732"
      ]
     },
     "execution_count": 19,
     "metadata": {},
     "output_type": "execute_result"
    }
   ],
   "source": [
    "len(test)"
   ]
  },
  {
   "cell_type": "code",
   "execution_count": 20,
   "id": "a00ff630",
   "metadata": {},
   "outputs": [],
   "source": [
    "with open(\"dev.json\") as json_file:\n",
    "    dev = json.load(json_file)\n",
    "    json_file.close()"
   ]
  },
  {
   "cell_type": "code",
   "execution_count": 21,
   "id": "0d23fb07",
   "metadata": {},
   "outputs": [
    {
     "data": {
      "text/plain": [
       "1034"
      ]
     },
     "execution_count": 21,
     "metadata": {},
     "output_type": "execute_result"
    }
   ],
   "source": [
    "len(dev)"
   ]
  },
  {
   "cell_type": "code",
   "execution_count": 22,
   "id": "da3a8526",
   "metadata": {},
   "outputs": [],
   "source": [
    "import random\n",
    "\n",
    "random.shuffle(train_final)\n",
    "train1 = train_final[:3463] # 6927/2 = 3463\n",
    "train2 = train_final[3463:]\n",
    "\n",
    "random.shuffle(dev)\n",
    "dev1 = dev[:517] # 1034/2 = 517\n",
    "dev2 = dev[517:]\n",
    "\n",
    "random.shuffle(test)\n",
    "test1 = test[:866] # 1732/2 = 866\n",
    "test2 = test[866:]"
   ]
  },
  {
   "cell_type": "code",
   "execution_count": 23,
   "id": "96828a99",
   "metadata": {},
   "outputs": [],
   "source": [
    "with open(\"train1.json\", \"w\") as outfile:\n",
    "    json.dump(train1, outfile)"
   ]
  },
  {
   "cell_type": "code",
   "execution_count": 29,
   "id": "1f5dffea",
   "metadata": {},
   "outputs": [],
   "source": [
    "with open(\"train2.json\", \"w\") as outfile:\n",
    "    json.dump(train2, outfile)"
   ]
  },
  {
   "cell_type": "code",
   "execution_count": 25,
   "id": "8cbf634a",
   "metadata": {},
   "outputs": [],
   "source": [
    "with open(\"dev1.json\", \"w\") as outfile:\n",
    "    json.dump(dev1, outfile)"
   ]
  },
  {
   "cell_type": "code",
   "execution_count": 30,
   "id": "3f55b9cf",
   "metadata": {},
   "outputs": [],
   "source": [
    "with open(\"dev2.json\", \"w\") as outfile:\n",
    "    json.dump(dev2, outfile)"
   ]
  },
  {
   "cell_type": "code",
   "execution_count": 27,
   "id": "09311129",
   "metadata": {},
   "outputs": [],
   "source": [
    "with open(\"test1.json\", \"w\") as outfile:\n",
    "    json.dump(test1, outfile)"
   ]
  },
  {
   "cell_type": "code",
   "execution_count": 31,
   "id": "62988d7d",
   "metadata": {},
   "outputs": [],
   "source": [
    "with open(\"test2.json\", \"w\") as outfile:\n",
    "    json.dump(test2, outfile)"
   ]
  },
  {
   "cell_type": "code",
   "execution_count": null,
   "id": "a6a29afa",
   "metadata": {},
   "outputs": [],
   "source": []
  }
 ],
 "metadata": {
  "kernelspec": {
   "display_name": "Python 3",
   "language": "python",
   "name": "python3"
  },
  "language_info": {
   "codemirror_mode": {
    "name": "ipython",
    "version": 3
   },
   "file_extension": ".py",
   "mimetype": "text/x-python",
   "name": "python",
   "nbconvert_exporter": "python",
   "pygments_lexer": "ipython3",
   "version": "3.10.13"
  }
 },
 "nbformat": 4,
 "nbformat_minor": 5
}
